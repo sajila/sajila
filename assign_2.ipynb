{
  "nbformat": 4,
  "nbformat_minor": 0,
  "metadata": {
    "colab": {
      "name": "assign 2",
      "provenance": []
    },
    "kernelspec": {
      "name": "python3",
      "display_name": "Python 3"
    },
    "language_info": {
      "name": "python"
    }
  },
  "cells": [
    {
      "cell_type": "markdown",
      "source": [
        "Q1.Calculate the Salary using Python Programming\n",
        "\n",
        "Read the question carefully and follow the input and output format. \n",
        "\n",
        "Karen got salary for this month and she spends 20% of her salary for food, 10% of her salary for entertainment and 10% of her salary for travel.If she takes care of other shifts she will get 4% of the salary per day. Given her salary and the number of shifts she handled.Calculate how much she can save in her pocket after spending all these?\n",
        "\n",
        "Input and Output Format : First line of input consists of an integer, salary. Next line correspond to the number of shifts. Output consist of an integer, \n",
        "which is saving.\n",
        " 1. Print \"Salary too large\" when salary is greater than 10000. \n",
        " 2. Print \"Shifts too small\" when the shift is less than 0. \n",
        " 3. Print \"Salary too small\" when the salary is less than 0.\n",
        "Include a function named calculateSal()  to calcuate salary and print saving.\n",
        "\n",
        "- Sample Input 1:\n",
        "  7000\n",
        "  5\n",
        "  Sample Output 1:\n",
        "  5600\n",
        "- Sample Input 2:\n",
        "  80000\n",
        "  Sample Output 2:\n",
        "  Salary too large\n",
        "- Sample Input 3:\n",
        "  6000\n",
        "  -1\n",
        "  Sample Output 3:\n",
        "  Shift too small\n",
        "\n",
        "  "
      ],
      "metadata": {
        "id": "ntTCZAKe5R1o"
      }
    },
    {
      "cell_type": "code",
      "source": [
        "def salary():\n",
        "   salary=int(input(\"enter the amount\\t\"))\n",
        "   print(salary)\n",
        "   if salary>10000:\n",
        "    print(\"salary is large\")\n",
        "   elif salary<0:\n",
        "    print(\"salary is too small\")\n",
        "   else:\n",
        "         \n",
        "          shift=int(input(\"enter the shift\\t\"))\n",
        "         \n",
        "          if shift<0:\n",
        "             print(\"shifts too small\")\n",
        "          else:\n",
        "             savings=(salary*0.6)+(salary*0.04*shift)\n",
        "             print(\"the savings is:\")\n",
        "             return savings\n",
        "salary()"
      ],
      "metadata": {
        "colab": {
          "base_uri": "https://localhost:8080/"
        },
        "id": "wyspu9Lb5UqV",
        "outputId": "9094b0be-1f1e-46cf-d132-5c3b70907e83"
      },
      "execution_count": 16,
      "outputs": [
        {
          "output_type": "stream",
          "name": "stdout",
          "text": [
            "enter the amount\t5000\n",
            "5000\n",
            "enter the shift\t3\n",
            "the savings is:\n"
          ]
        },
        {
          "output_type": "execute_result",
          "data": {
            "text/plain": [
              "3600.0"
            ]
          },
          "metadata": {},
          "execution_count": 16
        }
      ]
    },
    {
      "cell_type": "markdown",
      "source": [
        "Q2.write python code to read n as integer,from STDIN. For all non-negative integers i<n ,print i**2.\n",
        "\n",
        "Example\n",
        "The list of non-negative integers that are less than n=3 is[0,1,2]. Print the square of each number on a separate line.\n",
        "0\n",
        "1\n",
        "4\n",
        "\n",
        "Input Format\n",
        "The first and only line contains the integer,n .\n",
        "Output Format\n",
        "Print n lines, one corresponding to each i .\n",
        "\n",
        "\n",
        "Sample Input \n",
        "5\n",
        "Sample Output \n",
        "0\n",
        "1\n",
        "4\n",
        "9\n",
        "16"
      ],
      "metadata": {
        "id": "BnGqGuTR5lgO"
      }
    },
    {
      "cell_type": "code",
      "source": [
        "\n",
        "for i in range(0,4):\n",
        "   if i<0:\n",
        "       print(\"negative numbers\")\n",
        "   else:\n",
        "       print(i**2)"
      ],
      "metadata": {
        "colab": {
          "base_uri": "https://localhost:8080/"
        },
        "id": "6ChjYEdV5s2J",
        "outputId": "6658724c-d5c0-42d4-e8c3-743cf3cac7d2"
      },
      "execution_count": 28,
      "outputs": [
        {
          "output_type": "stream",
          "name": "stdout",
          "text": [
            "0\n",
            "1\n",
            "4\n",
            "9\n"
          ]
        }
      ]
    },
    {
      "cell_type": "code",
      "source": [
        "n=int(input(\"enter the numbers you want\"))\n",
        "for i in range(n):\n",
        "  print(i**2)\n",
        "  "
      ],
      "metadata": {
        "colab": {
          "base_uri": "https://localhost:8080/"
        },
        "id": "GZfpL12JcicY",
        "outputId": "3fedb68c-2cb1-4f61-d025-bb29c379c21a"
      },
      "execution_count": 31,
      "outputs": [
        {
          "output_type": "stream",
          "name": "stdout",
          "text": [
            "enter the numbers you want6\n",
            "0\n",
            "1\n",
            "4\n",
            "9\n",
            "16\n",
            "25\n"
          ]
        }
      ]
    },
    {
      "cell_type": "markdown",
      "source": [
        "Q3.An extra day is added to the calendar almost every four years as February 29, and the day is called a leap day. It corrects the calendar for the fact that our planet takes approximately 365.25 days to orbit the sun. A leap year contains a leap day.\n",
        "\n",
        "In the Gregorian calendar, three conditions are used to identify leap years:\n",
        "The year can be evenly divided by 4, is a leap year, unless:\n",
        "The year can be evenly divided by 100, it is NOT a leap year, unless:\n",
        "The year is also evenly divisible by 400. Then it is a leap year.\n",
        "This means that in the Gregorian calendar, the years 2000 and 2400 are leap years, while 1800, 1900, 2100, 2200, 2300 and 2500 are NOT leap years. Source\n",
        "\n",
        "Task\n",
        "Given a year, determine whether it is a leap year. If it is a leap year, return the Boolean True, otherwise return False.\n",
        "\n",
        "Note that the code stub provided reads from STDIN and passes arguments to the is_leap function. It is only necessary to complete the is_leap function.\n",
        "\n",
        "Input Format\n",
        "Read , the year as integer to test.\n",
        "Output Format\n",
        "The function must return a Boolean value (True/False)\n",
        "\n",
        "Sample Input \n",
        "1990\n",
        "Sample Output \n",
        "False\n",
        "\n"
      ],
      "metadata": {
        "id": "YDvJbu7l5zk9"
      }
    },
    {
      "cell_type": "code",
      "source": [
        "def leapyear():\n",
        "   n=int(input(\"enter the number\"))\n",
        "   if n%4==0 :\n",
        "      if n % 100 != 0:\n",
        "        print(\"true\")\n",
        "      elif  n % 400 == 0 and n % 100 == 0:\n",
        "         print(\"true\")\n",
        "      else:\n",
        "        print(false)\n",
        "leapyear()\n",
        "   \n",
        "   "
      ],
      "metadata": {
        "colab": {
          "base_uri": "https://localhost:8080/"
        },
        "id": "-sWGOYsO51wQ",
        "outputId": "9cb45640-8b21-4937-fad8-b345456f5d81"
      },
      "execution_count": 62,
      "outputs": [
        {
          "output_type": "stream",
          "name": "stdout",
          "text": [
            "enter the number2000\n",
            "true\n"
          ]
        }
      ]
    },
    {
      "cell_type": "code",
      "source": [
        "def is_leap1():\n",
        "    year = int(input(\"enter the year\"))\n",
        "    if (year % 400 == 0) and (year % 100 == 0):\n",
        "        return True\n",
        "    elif (year % 4 ==0) and (year % 100 != 0):\n",
        "        return True\n",
        "    else:\n",
        "        return False\n",
        "is_leap1()"
      ],
      "metadata": {
        "colab": {
          "base_uri": "https://localhost:8080/"
        },
        "id": "L4qI1A1SnaGN",
        "outputId": "f8b432cb-f839-4f99-b0b9-dc8cb8856bc3"
      },
      "execution_count": 57,
      "outputs": [
        {
          "name": "stdout",
          "output_type": "stream",
          "text": [
            "enter the year2000\n"
          ]
        },
        {
          "output_type": "execute_result",
          "data": {
            "text/plain": [
              "True"
            ]
          },
          "metadata": {},
          "execution_count": 57
        }
      ]
    }
  ]
}