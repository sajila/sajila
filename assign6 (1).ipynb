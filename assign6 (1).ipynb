{
  "nbformat": 4,
  "nbformat_minor": 0,
  "metadata": {
    "colab": {
      "name": "assign6",
      "provenance": []
    },
    "kernelspec": {
      "name": "python3",
      "display_name": "Python 3"
    },
    "language_info": {
      "name": "python"
    }
  },
  "cells": [
    {
      "cell_type": "markdown",
      "source": [
        "Q1.Data science problems on reading, concatenating, Data manipulation, and saving Data.\n",
        "\n",
        "In the Data Science project, for analyzing climate data to predict corp yield from various stations, climate data are captured from ten various stations ie.climate_data_station1.csv to climate_data_station10.csv File url_link=https://github.com/svkarthik86/Advanced-python/tree/main/climate_project n as Data analytics you have to read all files generated from stations and concatenate all files into one single data. and then calculate corp yield.\n",
        "\n",
        "for calculating the corp yield as a weighted sum of the temperature, rainfall, and humidity yield_of_corp = w1 temperature + w2 rainfall + w3 * humidity w1, w2, w3 = 0.3, 0.2, 0.5\n",
        "\n",
        "using the above information to generate yield_of_corp data and then concatenate yield_of_corp as the last column in climate_data. finally, save the result to climate_result.csv"
      ],
      "metadata": {
        "id": "C5xMa0AVYANF"
      }
    },
    {
      "cell_type": "code",
      "source": [
        "import numpy as np\n",
        "\n",
        "url=\"https://raw.githubusercontent.com/svkarthik86/Advanced-python/main/climate_project/climate_data_station1.csv\"\n",
        "climate_result=np.genfromtxt(url,delimiter=\",\",dtype=\"i\",skip_header=1)\n",
        "for i in range(2,11):\n",
        "    url=f\"https://raw.githubusercontent.com/svkarthik86/Advanced-python/main/climate_project/climate_data_station{i}.csv\"\n",
        "    data=np.genfromtxt(url,delimiter=\",\",skip_header=1,dtype=int)\n",
        "    climate_result=np.vstack((climate_result,data))\n",
        "n=np.array([])\n",
        "w1,w2,w3=0.3,0.2,0.5\n",
        "for i in climate_result:\n",
        "    n=np.append(n,(i[0]*w1+i[1]*w2+i[2]*w3))\n",
        "n=n.reshape(10000,1)\n",
        "climate_result=np.hstack((climate_result,n))\n",
        "np.savetxt(\"climate_result.csv\",climate_result,delimiter=\",\",fmt=[\"%d\",\"%d\",\"%d\",\"%.1f\"],header=\"temperature,rainfall,humidity,yield_of_corp\")\n"
      ],
      "metadata": {
        "id": "yhvNIV9SalzU"
      },
      "execution_count": 15,
      "outputs": []
    },
    {
      "cell_type": "code",
      "source": [
        "climate_result"
      ],
      "metadata": {
        "colab": {
          "base_uri": "https://localhost:8080/"
        },
        "id": "4hr-DHLcasG6",
        "outputId": "7730787b-8619-44de-99d6-03efeb359b93"
      },
      "execution_count": 16,
      "outputs": [
        {
          "output_type": "execute_result",
          "data": {
            "text/plain": [
              "array([[25. , 76. , 99. , 72.2],\n",
              "       [39. , 65. , 70. , 59.7],\n",
              "       [59. , 45. , 77. , 65.2],\n",
              "       ...,\n",
              "       [99. , 62. , 58. , 71.1],\n",
              "       [70. , 71. , 91. , 80.7],\n",
              "       [92. , 39. , 76. , 73.4]])"
            ]
          },
          "metadata": {},
          "execution_count": 16
        }
      ]
    },
    {
      "cell_type": "code",
      "source": [
        "n"
      ],
      "metadata": {
        "colab": {
          "base_uri": "https://localhost:8080/"
        },
        "id": "d4qUNkmma2rs",
        "outputId": "2ef4ae2f-90a7-4315-e255-644ca24bd940"
      },
      "execution_count": 17,
      "outputs": [
        {
          "output_type": "execute_result",
          "data": {
            "text/plain": [
              "array([[72.2],\n",
              "       [59.7],\n",
              "       [65.2],\n",
              "       ...,\n",
              "       [71.1],\n",
              "       [80.7],\n",
              "       [73.4]])"
            ]
          },
          "metadata": {},
          "execution_count": 17
        }
      ]
    }
  ]
}