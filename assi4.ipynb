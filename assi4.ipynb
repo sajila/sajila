{
  "nbformat": 4,
  "nbformat_minor": 0,
  "metadata": {
    "colab": {
      "name": "assi4",
      "provenance": [],
      "collapsed_sections": []
    },
    "kernelspec": {
      "name": "python3",
      "display_name": "Python 3"
    },
    "language_info": {
      "name": "python"
    }
  },
  "cells": [
    {
      "cell_type": "markdown",
      "source": [
        "Q1.TEAM ASSESMENTS\n",
        "\n",
        "The Team Leader of Testing team of XYZ company decided to assess the team members by organising a programming event. So he gave the team a task.\n",
        "The task is given an array of size N, find the number of distinct elements in the array and print them in ascending order. Those members who answer, will get some reward.\n",
        "Write a program to help the Team Leader to evaluate the solutions of the team members.\n",
        "\n",
        "Input format:\n",
        "The first line contains a single integer that denotes the size of the array, N.\n",
        "The second line contains N space separated integer values of the array.\n",
        "\n",
        "Output format:\n",
        "The first line is an integer that denotes the number of the distinct elements i nthe array.\n",
        "The second line is a series of integers seperated by space that denotes the distinct elements.\n",
        "\n",
        "Sample Input 1:\n",
        "5\n",
        "1 2 1 2 1\n",
        "Sample Output 1:\n",
        "2\n",
        "1 2\n",
        "\n",
        "Sample Input 2:\n",
        "5\n",
        "145 25 21 25 36\n",
        "Sample Output 2:\n",
        "4\n",
        "21 25 36 145\n"
      ],
      "metadata": {
        "id": "D9R-8_7CqImg"
      }
    },
    {
      "cell_type": "code",
      "source": [
        "\n",
        "from array import *\n",
        "arr=array(\"i\",[])\n",
        "n=int(input(\"enter the length of array\"))\n",
        "for i in range(n):\n",
        "  x=int(input(\"enter the values\"))\n",
        "  arr.append(x)\n",
        "print(arr)"
      ],
      "metadata": {
        "colab": {
          "base_uri": "https://localhost:8080/"
        },
        "id": "IaIfRmIZVD0c",
        "outputId": "ee2dce2c-f9d9-4bfd-ae13-d3280c526f56"
      },
      "execution_count": 18,
      "outputs": [
        {
          "output_type": "stream",
          "name": "stdout",
          "text": [
            "enter the length of array14\n",
            "enter the values45\n",
            "enter the values45\n",
            "enter the values18\n",
            "enter the values28\n",
            "enter the values33\n",
            "enter the values33\n",
            "enter the values88\n",
            "enter the values99\n",
            "enter the values67\n",
            "enter the values37\n",
            "enter the values37\n",
            "enter the values29\n",
            "enter the values9\n",
            "enter the values10\n",
            "array('i', [45, 45, 18, 28, 33, 33, 88, 99, 67, 37, 37, 29, 9, 10])\n"
          ]
        }
      ]
    },
    {
      "cell_type": "code",
      "source": [
        "w=sorted(arr)\n",
        "print(w)\n"
      ],
      "metadata": {
        "colab": {
          "base_uri": "https://localhost:8080/"
        },
        "id": "oOP4fttFVFOp",
        "outputId": "8ec49400-cc93-4c45-9f9b-c88b43266510"
      },
      "execution_count": 19,
      "outputs": [
        {
          "output_type": "stream",
          "name": "stdout",
          "text": [
            "[9, 10, 18, 28, 29, 33, 33, 37, 37, 45, 45, 67, 88, 99]\n"
          ]
        }
      ]
    },
    {
      "cell_type": "code",
      "source": [
        "d=set(w)\n",
        "d"
      ],
      "metadata": {
        "colab": {
          "base_uri": "https://localhost:8080/"
        },
        "id": "6kCoCAjZP6by",
        "outputId": "1df41103-aff0-4be7-d73b-45bd356cc399"
      },
      "execution_count": 24,
      "outputs": [
        {
          "output_type": "execute_result",
          "data": {
            "text/plain": [
              "{9, 10, 18, 28, 29, 33, 37, 45, 67, 88, 99}"
            ]
          },
          "metadata": {},
          "execution_count": 24
        }
      ]
    },
    {
      "cell_type": "code",
      "source": [
        "# Python program to print all distinct\n",
        "# elements in a given array\n",
        "\n",
        "def printDistinct(arr, n):\n",
        "\t\n",
        "\t# First sort the array so that\n",
        "\t# all occurrences become consecutive\n",
        "\tarr.sort();\n",
        "\n",
        "\t# Traverse the sorted array\n",
        "\tfor i in range(n):\n",
        "\t\t\n",
        "\t\t# Move the index ahead while there are duplicates\n",
        "\t\tif(i < n-1 and arr[i] == arr[i+1]):\n",
        "\t\t\twhile (i < n-1 and (arr[i] == arr[i+1])):\n",
        "\t\t\t\ti+=1;\n",
        "\t\t\t\n",
        "\n",
        "\t\t# print last occurrence of the current element\n",
        "\t\telse:\n",
        "\t\t\tprint(arr[i], end=\" \");\n",
        "\n",
        "# Driver code\n",
        "arr = [6, 10, 5, 4, 9, 120, 4, 6, 10];\n",
        "n = len(arr);\n",
        "printDistinct(arr, n);\n",
        "\n",
        "\n"
      ],
      "metadata": {
        "colab": {
          "base_uri": "https://localhost:8080/"
        },
        "id": "kvcajeqRPEmu",
        "outputId": "6cb43fca-b0e4-4b55-b6a8-c575729b5a49"
      },
      "execution_count": 16,
      "outputs": [
        {
          "output_type": "stream",
          "name": "stdout",
          "text": [
            "4 5 6 9 10 120 "
          ]
        }
      ]
    },
    {
      "cell_type": "markdown",
      "source": [
        "Q2.ANUSHKA’S PROBLEM\n",
        "\n",
        "Anuska has created a robot that will take instructions and work accordingly. Due to budget problem, she has set the memory low. To overcome that, she has to encode the instruction. Given the instruction S, count the consecutive characters and each character will be folowed by its frequency.\n",
        "For example, if the instruction is \"aaaabb\", the encoded instruction is \"a4b2\".\n",
        "\n",
        "Note:If the frequency is one, the count need not be printed.\n",
        "\n",
        "Input format:\n",
        "The first input is a string that denotes the instruction, S.\n",
        "\n",
        "Output format\n",
        "Output is a string that denotes the encoded string.\n",
        "\n",
        "Sample input 1:\n",
        "aaaabb\n",
        "Sample output 1:\n",
        "a4b2\n",
        "\n",
        "Sample input 2:\n",
        "sggvvvgss\n",
        "Sample output 2:\n",
        "sg2v3gs2"
      ],
      "metadata": {
        "id": "J-At5Q--wf1p"
      }
    },
    {
      "cell_type": "code",
      "source": [
        "s=input(\"enter the string:\")\n",
        "for i in range(0,len(s)):\n",
        "  count=1\n",
        "  for j in range(i+1,len(s)):\n",
        "   if(s[i] == s[j] and s[i]!=\"\"):\n",
        "    count=count+1\n",
        "    s=s[:j]+\"0\"+s[j+1:]\n",
        "  if(count>1 and s[i]!=\"0\"):\n",
        "    print(s[i],count,\"\",end=\"\")\n",
        "\n",
        "      \n"
      ],
      "metadata": {
        "colab": {
          "base_uri": "https://localhost:8080/"
        },
        "id": "gvqILveYiA5v",
        "outputId": "ba51281d-5ea9-4bea-ff6c-9c7fc8a08897"
      },
      "execution_count": 9,
      "outputs": [
        {
          "output_type": "stream",
          "name": "stdout",
          "text": [
            "enter the string:sajjjjjjaallllkkkkk\n",
            "a 3 j 6 l 4 k 5 "
          ]
        }
      ]
    },
    {
      "cell_type": "code",
      "source": [
        "from collections import Counter\n",
        "n=\"sajjaaa\"\n",
        "res=Counter(n)\n",
        "print(res)"
      ],
      "metadata": {
        "id": "ypxidN-3nxO0",
        "outputId": "7273287b-a6af-4466-e19f-9e1dcf8ec950",
        "colab": {
          "base_uri": "https://localhost:8080/"
        }
      },
      "execution_count": 10,
      "outputs": [
        {
          "output_type": "stream",
          "name": "stdout",
          "text": [
            "Counter({'a': 4, 'j': 2, 's': 1})\n"
          ]
        }
      ]
    },
    {
      "cell_type": "markdown",
      "source": [
        "``` Q3.SKILL TESTING Amar's team is assigned with a project that deals with the digital signals. He is aware that the digital signals will be represented as arrays. He wants to test his team with respect to their strength in arrays.As part of the skill testing, the task is as follows. You are given an array of integers of size N. Consider all its contiguous subarrays of length k and find the maximum sum. Do this for all k from 1 to the length of the input array. Write a program to evaluate the task done by the kids.\n",
        "\n",
        "Input format: The first line contains a single integer denotes the size of the array, N. The second line contains N-space separated integer that corresponds to the values of the array.\n",
        "\n",
        "Output format: The output consists of N-space separated integer values of the result array.\n",
        "\n",
        "Sample Input 1: 5 -1 2 1 3 -2 Sample Output 1: 3 4 6 5 3\n",
        "\n",
        "Explanation: For inputArray = [-1, 2, 1, 3, -2], the output should be [3, 2, 1, 0, 0]. The contiguous subarray of K = 1, each subarray will have 1 element. The sub-array with maximum sum is [3]. So result[0] = 3. of K = 2, each subarray will have 2 elements. The sub-array with maximum sum is [1,3]. So result[1] = 4. of K = 3, each subarray will have 3 elements. The sub-array with maximum sum is [2,1,3]. So result[2] = 6. of K = 4, each subarray will have 4 elements. The sub-array with maximum sum is [-1,2,1,3]. So result[1] = 5. of K = 5, each subarray will have 5 elements. The sub-array with maximum sum is [-1,2,1,3,-2]. So result[1] = 3. So the result array is [3, 4, 6, 5, 3].\n",
        "\n",
        "Sample Input 2: 5 2 3 2 -2 3 Sample Output 2: 3 5 7 6 8"
      ],
      "metadata": {
        "id": "2CgxkvGWwoTS"
      }
    },
    {
      "cell_type": "code",
      "source": [
        "from array import *\n",
        "arr=array(\"i\",[])\n",
        "n=int(input(\"enter the length of array\"))\n",
        "for i in range(n):\n",
        "  x=int(input(\"enter the values\"))\n",
        "  arr.append(x)\n",
        "print(arr)"
      ],
      "metadata": {
        "colab": {
          "base_uri": "https://localhost:8080/"
        },
        "id": "39f2GLq4jiQY",
        "outputId": "e0f461da-3433-4188-c860-56089536ddfb"
      },
      "execution_count": 29,
      "outputs": [
        {
          "output_type": "stream",
          "name": "stdout",
          "text": [
            "enter the length of array4\n",
            "enter the values4\n",
            "enter the values6\n",
            "enter the values7\n",
            "enter the values8\n",
            "array('i', [4, 6, 7, 8])\n"
          ]
        }
      ]
    }
  ]
}