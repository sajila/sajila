{
  "nbformat": 4,
  "nbformat_minor": 0,
  "metadata": {
    "colab": {
      "name": "assi5",
      "provenance": []
    },
    "kernelspec": {
      "name": "python3",
      "display_name": "Python 3"
    },
    "language_info": {
      "name": "python"
    }
  },
  "cells": [
    {
      "cell_type": "markdown",
      "source": [
        "WEEK5 Assignment- Python File Input and Output\n",
        "Q.1 Problem Statements:\n",
        "Create a python program for taking user notes in text file. When a user starts it up, it should prompt them for a filename.\n",
        "If they enter a file name that doesn't exist, it should prompt them to enter the text they want to write to the file.\n",
        "After they enter the text, it should save the file and exit.If they enter a file name that already exists, \n",
        "it should ask the user if they want:\n",
        "A) Read the file\n",
        "B) Append the file\n",
        "C) Delete the file and start over\n",
        "\n",
        "If the user wants to read the file it should simply show the contents of the file on the screen.\n",
        "If the user wants to start over then the file should be deleted and another empty one made in its place.\n",
        "If a user elects to append the file, then they should be able to enter more text, \n",
        "and that text should be added to the existing text in the file.\n",
        "\n",
        "Note:\n",
        "    The software Development Team created partial python code for the above problem statement, you try to help them to complete the code wherever required and produce successful output"
      ],
      "metadata": {
        "id": "E0gTTizsF_tP"
      }
    },
    {
      "cell_type": "code",
      "source": [
        "import os\n",
        "filename=input(\"Enter The File Name\")\n",
        "# Here we check if the file exists\n",
        "if os.path.isfile('./'+filename):\n",
        "    print(f\"Looking for file:{filename}\")\n",
        "    print(\"Found it\")\n",
        "    action = input(\"Enter the possible file operation: read, append, delete, replace\\n\")\n",
        "    if action==\"read\":\n",
        "        file=open(filename+\".txt\",'r')\n",
        "        print(file.read())\n",
        "        file.close()\n",
        "        \n",
        "       \n",
        "    elif action==\"append\":\n",
        "       file=open(filename+\".txt\",\"a\")\n",
        "       data=input(\"write the data:\")\n",
        "       file.write(data+\"\\n\")\n",
        "       file.close()\n",
        "\n",
        "        \n",
        "        \n",
        "        \n",
        "    elif action == \"delete\":\n",
        "          os.remove(filename+\".txt\")\n",
        "    \n",
        "    elif action == \"replace\":\n",
        "        file=open(filename+\".txt\",\"w\")\n",
        "        file.write(\"\")\n",
        "        file.close()\n",
        "     \n",
        "        \n",
        "        \n",
        "    else:\n",
        "        print(\"Sorry, unrecognized action 😢\")\n",
        "else:\n",
        "    print(\"Nope, this file does not exist, I'm going to create it for you! 😄\")\n",
        "    \"\"\"To Do : write the code for file create and write the notes \"\"\""
      ],
      "metadata": {
        "colab": {
          "base_uri": "https://localhost:8080/"
        },
        "id": "k5dGtO9pIl-F",
        "outputId": "79c11fa6-0b15-45eb-e2fd-c85fee93e75b"
      },
      "execution_count": 2,
      "outputs": [
        {
          "output_type": "stream",
          "name": "stdout",
          "text": [
            "Enter The File Namedemo\n",
            "Nope, this file does not exist, I'm going to create it for you! 😄\n"
          ]
        }
      ]
    },
    {
      "cell_type": "markdown",
      "source": [
        "Q2.Text File Analytics:\n",
        "Q2.1 Assume you as Data Analyst, you need to collect all text file name from current working directory and store the all text file name into \n",
        "    \"txtfile_namelist.txt\" and read this file and print How many files are available in that namelist.\n"
      ],
      "metadata": {
        "id": "gsNxxEdGGArp"
      }
    },
    {
      "cell_type": "markdown",
      "source": [
        ""
      ],
      "metadata": {
        "id": "T29FxaZ3UZMB"
      }
    },
    {
      "cell_type": "code",
      "source": [
        "import os \n",
        "\n",
        "files =os.listdir(os.curdir)\n",
        "print(files)\n",
        "\n",
        "\n"
      ],
      "metadata": {
        "colab": {
          "base_uri": "https://localhost:8080/"
        },
        "id": "FpI2cyKnI-ZY",
        "outputId": "4ce28595-8fc1-49f4-9ccd-5cdcbb1419f6"
      },
      "execution_count": 11,
      "outputs": [
        {
          "output_type": "stream",
          "name": "stdout",
          "text": [
            "['.config', 'txtfile_namelist.txt', 'sample_data']\n"
          ]
        }
      ]
    },
    {
      "cell_type": "code",
      "source": [
        "import glob\n",
        "import os\n",
        "import shutil\n",
        "\n",
        "os.listdir(os.curdir)\n",
        "file = glob.glob('*.txt')\n",
        "print(file)"
      ],
      "metadata": {
        "colab": {
          "base_uri": "https://localhost:8080/"
        },
        "id": "n6E2t9ukMCo8",
        "outputId": "2444c88d-fa58-434d-d4a6-778d1198194f"
      },
      "execution_count": 12,
      "outputs": [
        {
          "output_type": "stream",
          "name": "stdout",
          "text": [
            "['txtfile_namelist.txt']\n"
          ]
        }
      ]
    },
    {
      "cell_type": "code",
      "source": [
        "import os\n",
        "count=0\n",
        "file=open(\"txtfile_namelist.txt\",'w+')\n",
        "for i in os.listdir():\n",
        "    if i.endswith(\".txt\"):\n",
        "        file.write(i+\"\\n\")\n",
        "file.seek(0)\n",
        "for j in file.readlines():\n",
        "    print(j)\n",
        "    count+=1\n",
        "file.close()\n",
        "print(f\"Number of text files in the current working directory : {count}\")\n"
      ],
      "metadata": {
        "colab": {
          "base_uri": "https://localhost:8080/"
        },
        "id": "Kd_gpaiLVs54",
        "outputId": "d386fc62-3680-4b59-e142-305a5a523808"
      },
      "execution_count": 5,
      "outputs": [
        {
          "output_type": "stream",
          "name": "stdout",
          "text": [
            "txtfile_namelist.txt\n",
            "\n",
            "Number of text files in the current working directory : 1\n"
          ]
        }
      ]
    },
    {
      "cell_type": "markdown",
      "source": [
        "Q2.2 write the following contents to zenofpython.txt\n",
        "content:\n",
        "--------------------------------------------------------------\n",
        "The Zen of Python, by Tim Peters\n",
        "Beautiful is better than ugly.\n",
        "Explicit is better than implicit.\n",
        "Simple is better than complex.\n",
        "Complex is better than complicated.\n",
        "Flat is better than nested.\n",
        "Sparse is better than dense.\n",
        "Readability counts.\n",
        "Special cases aren't special enough to break the rules.\n",
        "Although practicality beats purity.\n",
        "Errors should never pass silently.\n",
        "Unless explicitly silenced.\n",
        "In the face of ambiguity, refuse the temptation to guess.\n",
        "There should be one -- and preferably only one -- obvious way to do it.\n",
        "Although that way may not be obvious at first unless you're Dutch.\n",
        "Now is better than never.\n",
        "Although never is often better than right now.\n",
        "If the implementation is hard to explain, it's a bad idea.\n",
        "If the implementation is easy to explain, it may be a good idea.\n",
        "Namespaces are one honking great idea -- let's do more of those!\n",
        "\n",
        "\n",
        "------------------------------------------------------------------\n",
        "an perform the following Operation:\n",
        "1.print number of lines in the zenofpython.txt file\n",
        "2.print number of words in the zenofpython.txt file\n",
        "3.Print how may python keyword present in the zenofpython.txt file\n",
        "4.print the all content in uppercase"
      ],
      "metadata": {
        "id": "c8q32KZvUaOV"
      }
    },
    {
      "cell_type": "code",
      "source": [
        "import keyword\n",
        "file1=open(\"zenofpython.txt\",\"w+\")\n",
        "content=\"The Zen of Python, by Tim Peters\\nBeautiful is better than ugly.\\nExplicit is better than implicit.\\nSimple is better than complex.\\nComplex is better than complicated.\\nFlat is better than nested.\\nSparse is better than dense.\\nReadability counts.\\nSpecial cases aren't special enough to break the rules.\\nAlthough practicality beats purity.\\nErrors should never pass silently.\\nUnless explicitly silenced.\\nIn the face of ambiguity, refuse the temptation to guess.\\nThere should be one -- and preferably only one -- obvious way to do it.\\nAlthough that way may not be obvious at first unless you're Dutch.\\nNow is better than never.\\nAlthough never is often better than right now.\\nIf the implementation is hard to explain, it's a bad idea.\\nIf the implementation is easy to explain, it may be a good idea.\\nNamespaces are one honking great idea -- let's do more of those!\\n\"\n",
        "file1.write(content)\n",
        "file1.seek(0)\n",
        "count=0\n",
        "for i in file1.readlines():\n",
        "    count+=1\n",
        "print(f\"Number of Lines in the file: {count}\")\n",
        "file1.seek(0)\n",
        "words=(((file1.read()).replace(\"--\",\"\")).replace(\".\",\"\")).split()\n",
        "print(f\"Number of Words in the file: {len(words)}\")\n",
        "count=0\n",
        "for j in words:\n",
        "    if j in keyword.kwlist:\n",
        "        count+=1\n",
        "print(f\"Number of python keywords in the file:{count}\\n\")\n",
        "file1.seek(0)\n",
        "print((file1.read()).upper())"
      ],
      "metadata": {
        "colab": {
          "base_uri": "https://localhost:8080/"
        },
        "id": "aa1U3h4IVsO9",
        "outputId": "447aeafb-9a49-4dd5-a7ce-9a78762b00f0"
      },
      "execution_count": 13,
      "outputs": [
        {
          "output_type": "stream",
          "name": "stdout",
          "text": [
            "Number of Lines in the file: 20\n",
            "Number of Words in the file: 143\n",
            "Number of python keywords in the file:14\n",
            "\n",
            "THE ZEN OF PYTHON, BY TIM PETERS\n",
            "BEAUTIFUL IS BETTER THAN UGLY.\n",
            "EXPLICIT IS BETTER THAN IMPLICIT.\n",
            "SIMPLE IS BETTER THAN COMPLEX.\n",
            "COMPLEX IS BETTER THAN COMPLICATED.\n",
            "FLAT IS BETTER THAN NESTED.\n",
            "SPARSE IS BETTER THAN DENSE.\n",
            "READABILITY COUNTS.\n",
            "SPECIAL CASES AREN'T SPECIAL ENOUGH TO BREAK THE RULES.\n",
            "ALTHOUGH PRACTICALITY BEATS PURITY.\n",
            "ERRORS SHOULD NEVER PASS SILENTLY.\n",
            "UNLESS EXPLICITLY SILENCED.\n",
            "IN THE FACE OF AMBIGUITY, REFUSE THE TEMPTATION TO GUESS.\n",
            "THERE SHOULD BE ONE -- AND PREFERABLY ONLY ONE -- OBVIOUS WAY TO DO IT.\n",
            "ALTHOUGH THAT WAY MAY NOT BE OBVIOUS AT FIRST UNLESS YOU'RE DUTCH.\n",
            "NOW IS BETTER THAN NEVER.\n",
            "ALTHOUGH NEVER IS OFTEN BETTER THAN RIGHT NOW.\n",
            "IF THE IMPLEMENTATION IS HARD TO EXPLAIN, IT'S A BAD IDEA.\n",
            "IF THE IMPLEMENTATION IS EASY TO EXPLAIN, IT MAY BE A GOOD IDEA.\n",
            "NAMESPACES ARE ONE HONKING GREAT IDEA -- LET'S DO MORE OF THOSE!\n",
            "\n"
          ]
        }
      ]
    }
  ]
}