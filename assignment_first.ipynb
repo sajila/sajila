{
  "nbformat": 4,
  "nbformat_minor": 0,
  "metadata": {
    "colab": {
      "name": "assignment first",
      "provenance": [],
      "collapsed_sections": []
    },
    "kernelspec": {
      "name": "python3",
      "display_name": "Python 3"
    },
    "language_info": {
      "name": "python"
    }
  },
  "cells": [
    {
      "cell_type": "markdown",
      "source": [
        "Q1.1. Pavan kumar makes 65% of his free-throw attempts. If he shoots 15 free throws, what is the probability that he makes exactly 10?"
      ],
      "metadata": {
        "id": "5exnch02mXMC"
      }
    },
    {
      "cell_type": "code",
      "source": [
        "import scipy"
      ],
      "metadata": {
        "id": "h__wn7ETmpjR"
      },
      "execution_count": null,
      "outputs": []
    },
    {
      "cell_type": "code",
      "source": [
        "from scipy.stats import binom\n",
        "binom.pmf(k=10,n=15,p=0.65)"
      ],
      "metadata": {
        "colab": {
          "base_uri": "https://localhost:8080/"
        },
        "id": "bteTU0DTplBO",
        "outputId": "2c43f078-5960-4250-ed86-e9f1e8063c66"
      },
      "execution_count": null,
      "outputs": [
        {
          "output_type": "execute_result",
          "data": {
            "text/plain": [
              "0.21233868348803567"
            ]
          },
          "metadata": {},
          "execution_count": 3
        }
      ]
    },
    {
      "cell_type": "markdown",
      "source": [
        "Q1.2.Shivam flips a fair coin 6 times. What is the probability that the coin lands on heads 3 times or fewer?"
      ],
      "metadata": {
        "id": "m3tzrS1GqO5V"
      }
    },
    {
      "cell_type": "code",
      "source": [
        "from scipy.stats import binom\n",
        "binom.pmf(k=3,n=6,p=0.5)"
      ],
      "metadata": {
        "colab": {
          "base_uri": "https://localhost:8080/"
        },
        "id": "9JpxPVYEqUZk",
        "outputId": "e3967edb-a55f-47d5-cbb2-edd7ad3098e7"
      },
      "execution_count": 1,
      "outputs": [
        {
          "output_type": "execute_result",
          "data": {
            "text/plain": [
              "0.3125000000000002"
            ]
          },
          "metadata": {},
          "execution_count": 1
        }
      ]
    },
    {
      "cell_type": "markdown",
      "source": [
        "1.3.It is known that 65% of individuals support a certain law. If 10 individuals are randomly selected, what is the probability that between 3 and 6 of them support the law?\n"
      ],
      "metadata": {
        "id": "_ds4pqBArjYN"
      }
    },
    {
      "cell_type": "code",
      "source": [
        "from scipy.stats import binom\n",
        "binom.cdf(k=6,n=10,p=0.65)-binom.cdf(k=3,n=10,p=0.65)"
      ],
      "metadata": {
        "id": "TVmswV1Prm2E",
        "colab": {
          "base_uri": "https://localhost:8080/"
        },
        "outputId": "570f00c6-e0ac-44b7-bc80-eeead64c3cc9"
      },
      "execution_count": 2,
      "outputs": [
        {
          "output_type": "execute_result",
          "data": {
            "text/plain": [
              "0.4601487031476564"
            ]
          },
          "metadata": {},
          "execution_count": 2
        }
      ]
    },
    {
      "cell_type": "markdown",
      "source": [
        "2.Calculate Probabilities Using a Poisson Distribution"
      ],
      "metadata": {
        "id": "WrdUnc1PvTVL"
      }
    },
    {
      "cell_type": "markdown",
      "source": [
        "Q2.1. A store sells 4 apples per day on average. What is the probability that they will sell 6 apples on a given day?\n"
      ],
      "metadata": {
        "id": "NCrqRM-ZvV3x"
      }
    },
    {
      "cell_type": "code",
      "source": [
        "from scipy.stats import poisson\n",
        "poisson.pmf(k=6,mu=4)"
      ],
      "metadata": {
        "id": "4MATTTZ4vb17",
        "colab": {
          "base_uri": "https://localhost:8080/"
        },
        "outputId": "55fa0740-a257-4809-c69e-9dfa40eb336d"
      },
      "execution_count": 3,
      "outputs": [
        {
          "output_type": "execute_result",
          "data": {
            "text/plain": [
              "0.10419563456702102"
            ]
          },
          "metadata": {},
          "execution_count": 3
        }
      ]
    },
    {
      "cell_type": "markdown",
      "source": [
        "Q2.2. A certain store sells seven footballs per day on average. What is the probability that this store sells four or less footballs in a given day?\n"
      ],
      "metadata": {
        "id": "QA0bk8Bevdc9"
      }
    },
    {
      "cell_type": "code",
      "source": [
        "from scipy.stats import poisson\n",
        "poisson.cdf(k=4,mu=7)"
      ],
      "metadata": {
        "id": "Wrirpdx1vhmz",
        "colab": {
          "base_uri": "https://localhost:8080/"
        },
        "outputId": "74c665b6-131e-40cf-e9f2-ec7361dc7b77"
      },
      "execution_count": 4,
      "outputs": [
        {
          "output_type": "execute_result",
          "data": {
            "text/plain": [
              "0.17299160788207146"
            ]
          },
          "metadata": {},
          "execution_count": 4
        }
      ]
    },
    {
      "cell_type": "markdown",
      "source": [
        "Q2.3. A certain store sells 15 cans of tuna per day on average. What is the probability that this store sells more than 20 cans of tuna in a given day?"
      ],
      "metadata": {
        "id": "nIQEoMtDvh8Y"
      }
    },
    {
      "cell_type": "markdown",
      "source": [
        "P(X>20)=1-P(X<=20), where mu=15"
      ],
      "metadata": {
        "id": "psBTuSuIo7FY"
      }
    },
    {
      "cell_type": "code",
      "source": [
        "from scipy.stats import poisson\n",
        "1-poisson.cdf(k=20,mu=15)"
      ],
      "metadata": {
        "id": "ZhtX2CtRvnV6",
        "colab": {
          "base_uri": "https://localhost:8080/"
        },
        "outputId": "73bf093d-0d18-4341-a72a-54b6d494c4f8"
      },
      "execution_count": 5,
      "outputs": [
        {
          "output_type": "execute_result",
          "data": {
            "text/plain": [
              "0.08297091003146029"
            ]
          },
          "metadata": {},
          "execution_count": 5
        }
      ]
    },
    {
      "cell_type": "markdown",
      "source": [
        "3.Calculate Probabilities Using a Uniform Distribution"
      ],
      "metadata": {
        "id": "fDI2Dmv3wUg-"
      }
    },
    {
      "cell_type": "markdown",
      "source": [
        "Q3.1. Suppose a bus shows up at a bus stop every 20 minutes. If you arrive at the bus stop, what is the probability that the bus will show up in 8 minutes or less?"
      ],
      "metadata": {
        "id": "2xh9K8ffweAz"
      }
    },
    {
      "cell_type": "code",
      "source": [
        "from scipy.stats import uniform\n",
        "uniform.cdf(x=8, loc=0, scale=20) "
      ],
      "metadata": {
        "id": "14qmh_B_whCG",
        "colab": {
          "base_uri": "https://localhost:8080/"
        },
        "outputId": "2a7105a3-0477-492a-b993-85744b50eaf0"
      },
      "execution_count": 6,
      "outputs": [
        {
          "output_type": "execute_result",
          "data": {
            "text/plain": [
              "0.4"
            ]
          },
          "metadata": {},
          "execution_count": 6
        }
      ]
    },
    {
      "cell_type": "markdown",
      "source": [
        "Q3.2.The weight of a certain species of frog is uniformly distributed between 15 and 25 grams. If you randomly select a frog, what is the probability that the frog weighs between 17 and 19 grams?"
      ],
      "metadata": {
        "id": "0hQYWuGvwh-H"
      }
    },
    {
      "cell_type": "code",
      "source": [
        "from scipy.stats import uniform\n",
        "uniform.cdf(x=19, loc=15, scale=10) - uniform.cdf(x=17, loc=15, scale=10)"
      ],
      "metadata": {
        "id": "56U0XanlwmjW",
        "colab": {
          "base_uri": "https://localhost:8080/"
        },
        "outputId": "991aee76-4bb9-412f-d6b7-8abcf7d61861"
      },
      "execution_count": 7,
      "outputs": [
        {
          "output_type": "execute_result",
          "data": {
            "text/plain": [
              "0.2"
            ]
          },
          "metadata": {},
          "execution_count": 7
        }
      ]
    },
    {
      "cell_type": "markdown",
      "source": [
        "Q3.3.The length of an NBA game is uniformly distributed between 120 and 170 minutes. What is the probability that a randomly selected NBA game lasts more than 150 minutes?"
      ],
      "metadata": {
        "id": "EpOFk9Pqwm-U"
      }
    },
    {
      "cell_type": "code",
      "source": [
        "from scipy.stats import uniform\n",
        "uniform.cdf(x=170, loc=120, scale=50) - uniform.cdf(x=150, loc=120, scale=50) "
      ],
      "metadata": {
        "id": "XNUpPnNGwqZX",
        "colab": {
          "base_uri": "https://localhost:8080/"
        },
        "outputId": "2396698a-b132-4324-ef6f-3617db3f8f8b"
      },
      "execution_count": 12,
      "outputs": [
        {
          "output_type": "execute_result",
          "data": {
            "text/plain": [
              "0.4"
            ]
          },
          "metadata": {},
          "execution_count": 12
        }
      ]
    },
    {
      "cell_type": "markdown",
      "source": [
        "4.Calculate Probabilities Using a Normal Distribution"
      ],
      "metadata": {
        "id": "4EqZd2VqvpVV"
      }
    },
    {
      "cell_type": "markdown",
      "source": [
        "Q4.1.A radar unit is used to measure speeds of cars on a motorway. The speeds are normally distributed with a mean of 90 km/hr and a standard deviation of 10 km/hr. What is the probability that a car picked at random is travelling at more than 100 km/hr?"
      ],
      "metadata": {
        "id": "FSlMgVDRwC7B"
      }
    },
    {
      "cell_type": "markdown",
      "source": [
        "x has μ = 90 and σ = 10. We have to find the probability that x is higher than 100 or P(x > 100)\n",
        "\n",
        "norm.pdf(x, loc, scale) The location (loc) keyword specifies the mean. The scale (scale) keyword specifies the standard deviation."
      ],
      "metadata": {
        "id": "PodZ2jHbtHmE"
      }
    },
    {
      "cell_type": "code",
      "source": [
        "from scipy.stats import norm\n",
        "1-norm.cdf(x=100,loc=90,scale=10)"
      ],
      "metadata": {
        "id": "CA3ZFZP9wF-7",
        "colab": {
          "base_uri": "https://localhost:8080/"
        },
        "outputId": "2ff66394-d668-4e4c-fb1d-3a8ffa183af7"
      },
      "execution_count": 13,
      "outputs": [
        {
          "output_type": "execute_result",
          "data": {
            "text/plain": [
              "0.15865525393145707"
            ]
          },
          "metadata": {},
          "execution_count": 13
        }
      ]
    },
    {
      "cell_type": "markdown",
      "source": [
        "Q4.2.For a certain type of computers, the length of time bewteen charges of the battery is normally distributed with a mean of 50 hours and a standard deviation of 15 hours. John owns one of these computers and wants to know the probability that the length of time will be between 50 and 70 hours.\n"
      ],
      "metadata": {
        "id": "7t1En01mwJTo"
      }
    },
    {
      "cell_type": "code",
      "source": [
        "from scipy.stats import norm\n",
        "norm.cdf(x=70,loc=50,scale=15)-norm.cdf(x=50,loc=50,scale=15)"
      ],
      "metadata": {
        "id": "URo2Fd2bwLjx",
        "colab": {
          "base_uri": "https://localhost:8080/"
        },
        "outputId": "19fc343c-8e29-46c8-b121-89f29368fb7f"
      },
      "execution_count": 14,
      "outputs": [
        {
          "output_type": "execute_result",
          "data": {
            "text/plain": [
              "0.4087887802741321"
            ]
          },
          "metadata": {},
          "execution_count": 14
        }
      ]
    },
    {
      "cell_type": "markdown",
      "source": [
        "Q4.3.Entry to a certain University is determined by a national test. The scores on this test are normally distributed with a mean of 500 and a standard deviation of 100. Tom wants to be admitted to this university and he knows that he must score better than at least 70% of the students who took the test. Tom takes the test and scores 585. Will he be admitted to this university?"
      ],
      "metadata": {
        "id": "EieNj5FcwL_X"
      }
    },
    {
      "cell_type": "code",
      "source": [
        "from scipy.stats import norm\n",
        "norm.cdf(x=585,loc=500,scale=100)"
      ],
      "metadata": {
        "id": "HXnKaWgcwQ4H",
        "colab": {
          "base_uri": "https://localhost:8080/"
        },
        "outputId": "d2e3b271-5c20-4601-8e88-c612db33b32e"
      },
      "execution_count": 15,
      "outputs": [
        {
          "output_type": "execute_result",
          "data": {
            "text/plain": [
              "0.8023374568773076"
            ]
          },
          "metadata": {},
          "execution_count": 15
        }
      ]
    }
  ]
}