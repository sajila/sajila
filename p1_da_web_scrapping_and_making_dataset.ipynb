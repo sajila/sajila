{
  "nbformat": 4,
  "nbformat_minor": 0,
  "metadata": {
    "colab": {
      "name": "p1-da-web scrapping and making dataset",
      "provenance": [],
      "collapsed_sections": []
    },
    "kernelspec": {
      "name": "python3",
      "display_name": "Python 3"
    },
    "language_info": {
      "name": "python"
    },
    "accelerator": "GPU",
    "gpuClass": "standard"
  },
  "cells": [
    {
      "cell_type": "code",
      "source": [
        "from bs4 import BeautifulSoup \n",
        "import requests\n",
        "import smtplib\n",
        "import time\n",
        "import datetime\n"
      ],
      "metadata": {
        "id": "O4ZfadRyy4g6"
      },
      "execution_count": 4,
      "outputs": []
    },
    {
      "cell_type": "code",
      "source": [
        "URL = \"https://www.amazon.in/CreativiT-Graphic-Business-D00589-715_Navy-Blue_Medium/dp/B08CHF6Y24/ref=sr_1_5?crid=29A73MQWIST8G&keywords=business+analyst+tshirt&qid=1655574815&sprefix=business+analyst+tshirt%2Caps%2C349&sr=8-5\""
      ],
      "metadata": {
        "id": "mLYEnn6_7fkn"
      },
      "execution_count": 6,
      "outputs": []
    },
    {
      "cell_type": "code",
      "source": [
        "headers={\"User-Agent\": \"Mozilla/5.0 (X11; Linux x86_64) AppleWebKit/537.36 (KHTML, like Gecko) Safari/537.36 HeyTapBrowser/45.8.2.9\"}"
      ],
      "metadata": {
        "id": "j0qYmXZv7dmG"
      },
      "execution_count": 8,
      "outputs": []
    },
    {
      "cell_type": "code",
      "source": [
        "page=requests.get(URL,headers=headers) #bringing data"
      ],
      "metadata": {
        "id": "QnKDCPZE95cc"
      },
      "execution_count": 10,
      "outputs": []
    },
    {
      "cell_type": "code",
      "source": [
        "Soup1=BeautifulSoup(page.content,\"html.parser\") #pullin all html content\n",
        "Soup2=BeautifulSoup(Soup1.prettify(),\"html.parser\") #add some formating\n",
        "title=Soup2.find(id=\"productTitle\").get_text() #specific contents\n",
        "\n",
        "print(title)\n"
      ],
      "metadata": {
        "colab": {
          "base_uri": "https://localhost:8080/"
        },
        "id": "wmfU8P2u-Uog",
        "outputId": "50994935-ed1d-469c-ab4d-5a82da8cfd55"
      },
      "execution_count": 21,
      "outputs": [
        {
          "output_type": "stream",
          "name": "stdout",
          "text": [
            "\n",
            "                   CreativiT Graphic Printed T-Shirt for Unisex Mind Your OWN Business Tshirt | Casual Half Sleeve Round Neck T-Shirt | 100% Cotton | D00589-715\n",
            "                  \n"
          ]
        }
      ]
    },
    {
      "cell_type": "code",
      "source": [
        "title=title.strip()[1:]\n",
        "print(title)\n",
        "type(title)"
      ],
      "metadata": {
        "colab": {
          "base_uri": "https://localhost:8080/"
        },
        "id": "dE1UMqFnCnFW",
        "outputId": "200573d5-7524-4c91-b2c0-cd631ae03c75"
      },
      "execution_count": 27,
      "outputs": [
        {
          "output_type": "stream",
          "name": "stdout",
          "text": [
            "eativiT Graphic Printed T-Shirt for Unisex Mind Your OWN Business Tshirt | Casual Half Sleeve Round Neck T-Shirt | 100% Cotton | D00589-715\n"
          ]
        },
        {
          "output_type": "execute_result",
          "data": {
            "text/plain": [
              "str"
            ]
          },
          "metadata": {},
          "execution_count": 27
        }
      ]
    },
    {
      "cell_type": "code",
      "source": [
        "import datetime\n",
        "today =datetime.date.today()\n",
        "print(today)"
      ],
      "metadata": {
        "colab": {
          "base_uri": "https://localhost:8080/"
        },
        "id": "xugfGy1LG96G",
        "outputId": "ae9a6b91-f638-44e6-cafa-d2b61225a3cd"
      },
      "execution_count": 32,
      "outputs": [
        {
          "output_type": "stream",
          "name": "stdout",
          "text": [
            "2022-06-18\n"
          ]
        }
      ]
    },
    {
      "cell_type": "code",
      "source": [
        "import csv\n",
        "headers= [\"Title\",\"Date\"]\n",
        "data = [title,today]\n",
        "type(data)"
      ],
      "metadata": {
        "colab": {
          "base_uri": "https://localhost:8080/"
        },
        "id": "KitD59MYDHNH",
        "outputId": "9cc12cd8-701f-4c00-e900-88c08705023d"
      },
      "execution_count": 33,
      "outputs": [
        {
          "output_type": "execute_result",
          "data": {
            "text/plain": [
              "list"
            ]
          },
          "metadata": {},
          "execution_count": 33
        }
      ]
    },
    {
      "cell_type": "code",
      "source": [
        "with open(\"Amazon web scrapper.csv\",\"w\",newline=\"\",encoding=\"UTF8\") as f:\n",
        "    writer=csv.writer(f)\n",
        "    writer.writerow(headers) #inserting header\n",
        "    writer.writerow(data)   #inserting data"
      ],
      "metadata": {
        "id": "kF37K4N2Dhmc"
      },
      "execution_count": 34,
      "outputs": []
    },
    {
      "cell_type": "code",
      "source": [
        "import pandas as pd\n",
        "df=pd.read_csv(\"/content/Amazon web scrapper.csv\")\n",
        "df"
      ],
      "metadata": {
        "colab": {
          "base_uri": "https://localhost:8080/",
          "height": 143
        },
        "id": "oxVXyyH7G55r",
        "outputId": "a22f7a8d-b308-46d1-a557-17bac2452991"
      },
      "execution_count": 40,
      "outputs": [
        {
          "output_type": "execute_result",
          "data": {
            "text/plain": [
              "                                               Title        Date\n",
              "0  eativiT Graphic Printed T-Shirt for Unisex Min...  2022-06-18\n",
              "1  eativiT Graphic Printed T-Shirt for Unisex Min...  2022-06-18\n",
              "2  eativiT Graphic Printed T-Shirt for Unisex Min...  2022-06-18"
            ],
            "text/html": [
              "\n",
              "  <div id=\"df-10599bbb-bf0a-41ce-85bb-b0dc896bf567\">\n",
              "    <div class=\"colab-df-container\">\n",
              "      <div>\n",
              "<style scoped>\n",
              "    .dataframe tbody tr th:only-of-type {\n",
              "        vertical-align: middle;\n",
              "    }\n",
              "\n",
              "    .dataframe tbody tr th {\n",
              "        vertical-align: top;\n",
              "    }\n",
              "\n",
              "    .dataframe thead th {\n",
              "        text-align: right;\n",
              "    }\n",
              "</style>\n",
              "<table border=\"1\" class=\"dataframe\">\n",
              "  <thead>\n",
              "    <tr style=\"text-align: right;\">\n",
              "      <th></th>\n",
              "      <th>Title</th>\n",
              "      <th>Date</th>\n",
              "    </tr>\n",
              "  </thead>\n",
              "  <tbody>\n",
              "    <tr>\n",
              "      <th>0</th>\n",
              "      <td>eativiT Graphic Printed T-Shirt for Unisex Min...</td>\n",
              "      <td>2022-06-18</td>\n",
              "    </tr>\n",
              "    <tr>\n",
              "      <th>1</th>\n",
              "      <td>eativiT Graphic Printed T-Shirt for Unisex Min...</td>\n",
              "      <td>2022-06-18</td>\n",
              "    </tr>\n",
              "    <tr>\n",
              "      <th>2</th>\n",
              "      <td>eativiT Graphic Printed T-Shirt for Unisex Min...</td>\n",
              "      <td>2022-06-18</td>\n",
              "    </tr>\n",
              "  </tbody>\n",
              "</table>\n",
              "</div>\n",
              "      <button class=\"colab-df-convert\" onclick=\"convertToInteractive('df-10599bbb-bf0a-41ce-85bb-b0dc896bf567')\"\n",
              "              title=\"Convert this dataframe to an interactive table.\"\n",
              "              style=\"display:none;\">\n",
              "        \n",
              "  <svg xmlns=\"http://www.w3.org/2000/svg\" height=\"24px\"viewBox=\"0 0 24 24\"\n",
              "       width=\"24px\">\n",
              "    <path d=\"M0 0h24v24H0V0z\" fill=\"none\"/>\n",
              "    <path d=\"M18.56 5.44l.94 2.06.94-2.06 2.06-.94-2.06-.94-.94-2.06-.94 2.06-2.06.94zm-11 1L8.5 8.5l.94-2.06 2.06-.94-2.06-.94L8.5 2.5l-.94 2.06-2.06.94zm10 10l.94 2.06.94-2.06 2.06-.94-2.06-.94-.94-2.06-.94 2.06-2.06.94z\"/><path d=\"M17.41 7.96l-1.37-1.37c-.4-.4-.92-.59-1.43-.59-.52 0-1.04.2-1.43.59L10.3 9.45l-7.72 7.72c-.78.78-.78 2.05 0 2.83L4 21.41c.39.39.9.59 1.41.59.51 0 1.02-.2 1.41-.59l7.78-7.78 2.81-2.81c.8-.78.8-2.07 0-2.86zM5.41 20L4 18.59l7.72-7.72 1.47 1.35L5.41 20z\"/>\n",
              "  </svg>\n",
              "      </button>\n",
              "      \n",
              "  <style>\n",
              "    .colab-df-container {\n",
              "      display:flex;\n",
              "      flex-wrap:wrap;\n",
              "      gap: 12px;\n",
              "    }\n",
              "\n",
              "    .colab-df-convert {\n",
              "      background-color: #E8F0FE;\n",
              "      border: none;\n",
              "      border-radius: 50%;\n",
              "      cursor: pointer;\n",
              "      display: none;\n",
              "      fill: #1967D2;\n",
              "      height: 32px;\n",
              "      padding: 0 0 0 0;\n",
              "      width: 32px;\n",
              "    }\n",
              "\n",
              "    .colab-df-convert:hover {\n",
              "      background-color: #E2EBFA;\n",
              "      box-shadow: 0px 1px 2px rgba(60, 64, 67, 0.3), 0px 1px 3px 1px rgba(60, 64, 67, 0.15);\n",
              "      fill: #174EA6;\n",
              "    }\n",
              "\n",
              "    [theme=dark] .colab-df-convert {\n",
              "      background-color: #3B4455;\n",
              "      fill: #D2E3FC;\n",
              "    }\n",
              "\n",
              "    [theme=dark] .colab-df-convert:hover {\n",
              "      background-color: #434B5C;\n",
              "      box-shadow: 0px 1px 3px 1px rgba(0, 0, 0, 0.15);\n",
              "      filter: drop-shadow(0px 1px 2px rgba(0, 0, 0, 0.3));\n",
              "      fill: #FFFFFF;\n",
              "    }\n",
              "  </style>\n",
              "\n",
              "      <script>\n",
              "        const buttonEl =\n",
              "          document.querySelector('#df-10599bbb-bf0a-41ce-85bb-b0dc896bf567 button.colab-df-convert');\n",
              "        buttonEl.style.display =\n",
              "          google.colab.kernel.accessAllowed ? 'block' : 'none';\n",
              "\n",
              "        async function convertToInteractive(key) {\n",
              "          const element = document.querySelector('#df-10599bbb-bf0a-41ce-85bb-b0dc896bf567');\n",
              "          const dataTable =\n",
              "            await google.colab.kernel.invokeFunction('convertToInteractive',\n",
              "                                                     [key], {});\n",
              "          if (!dataTable) return;\n",
              "\n",
              "          const docLinkHtml = 'Like what you see? Visit the ' +\n",
              "            '<a target=\"_blank\" href=https://colab.research.google.com/notebooks/data_table.ipynb>data table notebook</a>'\n",
              "            + ' to learn more about interactive tables.';\n",
              "          element.innerHTML = '';\n",
              "          dataTable['output_type'] = 'display_data';\n",
              "          await google.colab.output.renderOutput(dataTable, element);\n",
              "          const docLink = document.createElement('div');\n",
              "          docLink.innerHTML = docLinkHtml;\n",
              "          element.appendChild(docLink);\n",
              "        }\n",
              "      </script>\n",
              "    </div>\n",
              "  </div>\n",
              "  "
            ]
          },
          "metadata": {},
          "execution_count": 40
        }
      ]
    },
    {
      "cell_type": "code",
      "source": [
        "#appending data to csv\n",
        "with open(\"Amazon web scrapper.csv\",\"a+\",newline=\"\",encoding=\"UTF8\") as f:\n",
        "    writer=csv.writer(f)\n",
        "    writer.writerow(data) "
      ],
      "metadata": {
        "id": "6UjQyyfpH2jX"
      },
      "execution_count": 39,
      "outputs": []
    },
    {
      "cell_type": "code",
      "source": [
        "def check_price():\n",
        "   URL = \"https://www.amazon.in/CreativiT-Graphic-Business-D00589-715_Navy-Blue_Medium/dp/B08CHF6Y24/ref=sr_1_5?crid=29A73MQWIST8G&keywords=business+analyst+tshirt&qid=1655574815&sprefix=business+analyst+tshirt%2Caps%2C349&sr=8-5\"\n",
        "   headers={\"User-Agent\": \"Mozilla/5.0 (X11; Linux x86_64) AppleWebKit/537.36 (KHTML, like Gecko) Safari/537.36 HeyTapBrowser/45.8.2.9\"}\n",
        "   page=requests.get(URL,headers=headers)\n",
        "   Soup1=BeautifulSoup(page.content,\"html.parser\") #pullin all html content\n",
        "   Soup2=BeautifulSoup(Soup1.prettify(),\"html.parser\") #add some formating\n",
        "   title=Soup2.find(id=\"productTitle\").get_text() #specific contents\n",
        "   title=title.strip()[1:]\n",
        "\n",
        "   import datetime\n",
        "   today =datetime.date.today()\n",
        "   print(today)  \n",
        "   import csv\n",
        "   headers= [\"Title\",\"Date\"]\n",
        "   data = [title,today]\n",
        "   with open(\"Amazon web scrapper.csv\",\"a+\",newline=\"\",encoding=\"UTF8\") as f:\n",
        "    writer=csv.writer(f)\n",
        "    writer.writerow(data)\n",
        "\n",
        "  "
      ],
      "metadata": {
        "id": "qws6z6qXJKhg"
      },
      "execution_count": 41,
      "outputs": []
    },
    {
      "cell_type": "code",
      "source": [
        "while(True):\n",
        "  check_price()\n",
        "  time.sleep(5)"
      ],
      "metadata": {
        "colab": {
          "base_uri": "https://localhost:8080/",
          "height": 392
        },
        "id": "RC8J_g8YKx6b",
        "outputId": "a81638e3-7276-4106-8eb0-8ba67a76276b"
      },
      "execution_count": 42,
      "outputs": [
        {
          "output_type": "stream",
          "name": "stdout",
          "text": [
            "2022-06-18\n",
            "2022-06-18\n",
            "2022-06-18\n",
            "2022-06-18\n",
            "2022-06-18\n",
            "2022-06-18\n",
            "2022-06-18\n",
            "2022-06-18\n",
            "2022-06-18\n",
            "2022-06-18\n",
            "2022-06-18\n"
          ]
        },
        {
          "output_type": "error",
          "ename": "KeyboardInterrupt",
          "evalue": "ignored",
          "traceback": [
            "\u001b[0;31m---------------------------------------------------------------------------\u001b[0m",
            "\u001b[0;31mKeyboardInterrupt\u001b[0m                         Traceback (most recent call last)",
            "\u001b[0;32m<ipython-input-42-e1cde110e7f6>\u001b[0m in \u001b[0;36m<module>\u001b[0;34m()\u001b[0m\n\u001b[1;32m      1\u001b[0m \u001b[0;32mwhile\u001b[0m\u001b[0;34m(\u001b[0m\u001b[0;32mTrue\u001b[0m\u001b[0;34m)\u001b[0m\u001b[0;34m:\u001b[0m\u001b[0;34m\u001b[0m\u001b[0;34m\u001b[0m\u001b[0m\n\u001b[1;32m      2\u001b[0m   \u001b[0mcheck_price\u001b[0m\u001b[0;34m(\u001b[0m\u001b[0;34m)\u001b[0m\u001b[0;34m\u001b[0m\u001b[0;34m\u001b[0m\u001b[0m\n\u001b[0;32m----> 3\u001b[0;31m   \u001b[0mtime\u001b[0m\u001b[0;34m.\u001b[0m\u001b[0msleep\u001b[0m\u001b[0;34m(\u001b[0m\u001b[0;36m5\u001b[0m\u001b[0;34m)\u001b[0m\u001b[0;34m\u001b[0m\u001b[0;34m\u001b[0m\u001b[0m\n\u001b[0m",
            "\u001b[0;31mKeyboardInterrupt\u001b[0m: "
          ]
        }
      ]
    },
    {
      "cell_type": "code",
      "source": [
        "import pandas as pd\n",
        "df=pd.read_csv(\"/content/Amazon web scrapper.csv\")\n",
        "df"
      ],
      "metadata": {
        "colab": {
          "base_uri": "https://localhost:8080/",
          "height": 488
        },
        "id": "3ndZgQpGLJyK",
        "outputId": "5b661146-0f41-4827-cffd-b26281321512"
      },
      "execution_count": 43,
      "outputs": [
        {
          "output_type": "execute_result",
          "data": {
            "text/plain": [
              "                                                Title        Date\n",
              "0   eativiT Graphic Printed T-Shirt for Unisex Min...  2022-06-18\n",
              "1   eativiT Graphic Printed T-Shirt for Unisex Min...  2022-06-18\n",
              "2   eativiT Graphic Printed T-Shirt for Unisex Min...  2022-06-18\n",
              "3   reativiT Graphic Printed T-Shirt for Unisex Mi...  2022-06-18\n",
              "4   reativiT Graphic Printed T-Shirt for Unisex Mi...  2022-06-18\n",
              "5   reativiT Graphic Printed T-Shirt for Unisex Mi...  2022-06-18\n",
              "6   reativiT Graphic Printed T-Shirt for Unisex Mi...  2022-06-18\n",
              "7   reativiT Graphic Printed T-Shirt for Unisex Mi...  2022-06-18\n",
              "8   reativiT Graphic Printed T-Shirt for Unisex Mi...  2022-06-18\n",
              "9   reativiT Graphic Printed T-Shirt for Unisex Mi...  2022-06-18\n",
              "10  reativiT Graphic Printed T-Shirt for Unisex Mi...  2022-06-18\n",
              "11  reativiT Graphic Printed T-Shirt for Unisex Mi...  2022-06-18\n",
              "12  reativiT Graphic Printed T-Shirt for Unisex Mi...  2022-06-18\n",
              "13  reativiT Graphic Printed T-Shirt for Unisex Mi...  2022-06-18"
            ],
            "text/html": [
              "\n",
              "  <div id=\"df-794d6663-08c4-492d-aa16-2d21910f5d01\">\n",
              "    <div class=\"colab-df-container\">\n",
              "      <div>\n",
              "<style scoped>\n",
              "    .dataframe tbody tr th:only-of-type {\n",
              "        vertical-align: middle;\n",
              "    }\n",
              "\n",
              "    .dataframe tbody tr th {\n",
              "        vertical-align: top;\n",
              "    }\n",
              "\n",
              "    .dataframe thead th {\n",
              "        text-align: right;\n",
              "    }\n",
              "</style>\n",
              "<table border=\"1\" class=\"dataframe\">\n",
              "  <thead>\n",
              "    <tr style=\"text-align: right;\">\n",
              "      <th></th>\n",
              "      <th>Title</th>\n",
              "      <th>Date</th>\n",
              "    </tr>\n",
              "  </thead>\n",
              "  <tbody>\n",
              "    <tr>\n",
              "      <th>0</th>\n",
              "      <td>eativiT Graphic Printed T-Shirt for Unisex Min...</td>\n",
              "      <td>2022-06-18</td>\n",
              "    </tr>\n",
              "    <tr>\n",
              "      <th>1</th>\n",
              "      <td>eativiT Graphic Printed T-Shirt for Unisex Min...</td>\n",
              "      <td>2022-06-18</td>\n",
              "    </tr>\n",
              "    <tr>\n",
              "      <th>2</th>\n",
              "      <td>eativiT Graphic Printed T-Shirt for Unisex Min...</td>\n",
              "      <td>2022-06-18</td>\n",
              "    </tr>\n",
              "    <tr>\n",
              "      <th>3</th>\n",
              "      <td>reativiT Graphic Printed T-Shirt for Unisex Mi...</td>\n",
              "      <td>2022-06-18</td>\n",
              "    </tr>\n",
              "    <tr>\n",
              "      <th>4</th>\n",
              "      <td>reativiT Graphic Printed T-Shirt for Unisex Mi...</td>\n",
              "      <td>2022-06-18</td>\n",
              "    </tr>\n",
              "    <tr>\n",
              "      <th>5</th>\n",
              "      <td>reativiT Graphic Printed T-Shirt for Unisex Mi...</td>\n",
              "      <td>2022-06-18</td>\n",
              "    </tr>\n",
              "    <tr>\n",
              "      <th>6</th>\n",
              "      <td>reativiT Graphic Printed T-Shirt for Unisex Mi...</td>\n",
              "      <td>2022-06-18</td>\n",
              "    </tr>\n",
              "    <tr>\n",
              "      <th>7</th>\n",
              "      <td>reativiT Graphic Printed T-Shirt for Unisex Mi...</td>\n",
              "      <td>2022-06-18</td>\n",
              "    </tr>\n",
              "    <tr>\n",
              "      <th>8</th>\n",
              "      <td>reativiT Graphic Printed T-Shirt for Unisex Mi...</td>\n",
              "      <td>2022-06-18</td>\n",
              "    </tr>\n",
              "    <tr>\n",
              "      <th>9</th>\n",
              "      <td>reativiT Graphic Printed T-Shirt for Unisex Mi...</td>\n",
              "      <td>2022-06-18</td>\n",
              "    </tr>\n",
              "    <tr>\n",
              "      <th>10</th>\n",
              "      <td>reativiT Graphic Printed T-Shirt for Unisex Mi...</td>\n",
              "      <td>2022-06-18</td>\n",
              "    </tr>\n",
              "    <tr>\n",
              "      <th>11</th>\n",
              "      <td>reativiT Graphic Printed T-Shirt for Unisex Mi...</td>\n",
              "      <td>2022-06-18</td>\n",
              "    </tr>\n",
              "    <tr>\n",
              "      <th>12</th>\n",
              "      <td>reativiT Graphic Printed T-Shirt for Unisex Mi...</td>\n",
              "      <td>2022-06-18</td>\n",
              "    </tr>\n",
              "    <tr>\n",
              "      <th>13</th>\n",
              "      <td>reativiT Graphic Printed T-Shirt for Unisex Mi...</td>\n",
              "      <td>2022-06-18</td>\n",
              "    </tr>\n",
              "  </tbody>\n",
              "</table>\n",
              "</div>\n",
              "      <button class=\"colab-df-convert\" onclick=\"convertToInteractive('df-794d6663-08c4-492d-aa16-2d21910f5d01')\"\n",
              "              title=\"Convert this dataframe to an interactive table.\"\n",
              "              style=\"display:none;\">\n",
              "        \n",
              "  <svg xmlns=\"http://www.w3.org/2000/svg\" height=\"24px\"viewBox=\"0 0 24 24\"\n",
              "       width=\"24px\">\n",
              "    <path d=\"M0 0h24v24H0V0z\" fill=\"none\"/>\n",
              "    <path d=\"M18.56 5.44l.94 2.06.94-2.06 2.06-.94-2.06-.94-.94-2.06-.94 2.06-2.06.94zm-11 1L8.5 8.5l.94-2.06 2.06-.94-2.06-.94L8.5 2.5l-.94 2.06-2.06.94zm10 10l.94 2.06.94-2.06 2.06-.94-2.06-.94-.94-2.06-.94 2.06-2.06.94z\"/><path d=\"M17.41 7.96l-1.37-1.37c-.4-.4-.92-.59-1.43-.59-.52 0-1.04.2-1.43.59L10.3 9.45l-7.72 7.72c-.78.78-.78 2.05 0 2.83L4 21.41c.39.39.9.59 1.41.59.51 0 1.02-.2 1.41-.59l7.78-7.78 2.81-2.81c.8-.78.8-2.07 0-2.86zM5.41 20L4 18.59l7.72-7.72 1.47 1.35L5.41 20z\"/>\n",
              "  </svg>\n",
              "      </button>\n",
              "      \n",
              "  <style>\n",
              "    .colab-df-container {\n",
              "      display:flex;\n",
              "      flex-wrap:wrap;\n",
              "      gap: 12px;\n",
              "    }\n",
              "\n",
              "    .colab-df-convert {\n",
              "      background-color: #E8F0FE;\n",
              "      border: none;\n",
              "      border-radius: 50%;\n",
              "      cursor: pointer;\n",
              "      display: none;\n",
              "      fill: #1967D2;\n",
              "      height: 32px;\n",
              "      padding: 0 0 0 0;\n",
              "      width: 32px;\n",
              "    }\n",
              "\n",
              "    .colab-df-convert:hover {\n",
              "      background-color: #E2EBFA;\n",
              "      box-shadow: 0px 1px 2px rgba(60, 64, 67, 0.3), 0px 1px 3px 1px rgba(60, 64, 67, 0.15);\n",
              "      fill: #174EA6;\n",
              "    }\n",
              "\n",
              "    [theme=dark] .colab-df-convert {\n",
              "      background-color: #3B4455;\n",
              "      fill: #D2E3FC;\n",
              "    }\n",
              "\n",
              "    [theme=dark] .colab-df-convert:hover {\n",
              "      background-color: #434B5C;\n",
              "      box-shadow: 0px 1px 3px 1px rgba(0, 0, 0, 0.15);\n",
              "      filter: drop-shadow(0px 1px 2px rgba(0, 0, 0, 0.3));\n",
              "      fill: #FFFFFF;\n",
              "    }\n",
              "  </style>\n",
              "\n",
              "      <script>\n",
              "        const buttonEl =\n",
              "          document.querySelector('#df-794d6663-08c4-492d-aa16-2d21910f5d01 button.colab-df-convert');\n",
              "        buttonEl.style.display =\n",
              "          google.colab.kernel.accessAllowed ? 'block' : 'none';\n",
              "\n",
              "        async function convertToInteractive(key) {\n",
              "          const element = document.querySelector('#df-794d6663-08c4-492d-aa16-2d21910f5d01');\n",
              "          const dataTable =\n",
              "            await google.colab.kernel.invokeFunction('convertToInteractive',\n",
              "                                                     [key], {});\n",
              "          if (!dataTable) return;\n",
              "\n",
              "          const docLinkHtml = 'Like what you see? Visit the ' +\n",
              "            '<a target=\"_blank\" href=https://colab.research.google.com/notebooks/data_table.ipynb>data table notebook</a>'\n",
              "            + ' to learn more about interactive tables.';\n",
              "          element.innerHTML = '';\n",
              "          dataTable['output_type'] = 'display_data';\n",
              "          await google.colab.output.renderOutput(dataTable, element);\n",
              "          const docLink = document.createElement('div');\n",
              "          docLink.innerHTML = docLinkHtml;\n",
              "          element.appendChild(docLink);\n",
              "        }\n",
              "      </script>\n",
              "    </div>\n",
              "  </div>\n",
              "  "
            ]
          },
          "metadata": {},
          "execution_count": 43
        }
      ]
    }
  ]
}